{
 "cells": [
  {
   "cell_type": "markdown",
   "metadata": {},
   "source": [
    "##### 问题\n",
    "你想根据一组语法规则解析文本并执行命令，或者构造一个代表输入的抽象语法树。如果语法简单，你可以自己写这个解析器，而不是使用一些框架。"
   ]
  },
  {
   "cell_type": "markdown",
   "metadata": {},
   "source": [
    "##### 解决方案\n",
    "在这个问题中，我们集中讨论根据特别语法去解析文本的问题。为了这样做，你先要以BNF或者EBNF指定一个标准语法。比如，一个简单数学表达式语法可能像下面这样："
   ]
  },
  {
   "cell_type": "raw",
   "metadata": {},
   "source": [
    "expr ::= expr + term\n",
    "    |    expr - term\n",
    "    |    term\n",
    "term ::= term * factor\n",
    "    |    term / factor\n",
    "    |    factor\n",
    "factor ::= ( expr )\n",
    "    |    NUM"
   ]
  },
  {
   "cell_type": "markdown",
   "metadata": {},
   "source": [
    "或者，以EBNF形式："
   ]
  },
  {
   "cell_type": "raw",
   "metadata": {},
   "source": [
    "expr ::= term { (+|-) term }*\n",
    "term ::= factor { (*|/) factor }*\n",
    "factor ::= ( expr )\n",
    "    | NUM"
   ]
  },
  {
   "cell_type": "markdown",
   "metadata": {},
   "source": [
    "在EBNF中，被包含在`{...}*`中的规则是可选的。`*`代表0次或多次重复（跟正则表达式中意义是一样的）。  \n",
    "现在，如果你对BNF的工作机制还不是很明白的话，就把它当做是一组左右符号可相互替换的规则。一般来讲，解析的原理就是你利用BNF完成多个替换和扩展以匹配输入文本和语法规则。为了演示，假设你正在解析形如`3 + 4 * 5`的表达式。这个表达式要通过使用2.18节中介绍的技术为一组令牌流。结果可能是像下列这样的令牌序列："
   ]
  },
  {
   "cell_type": "raw",
   "metadata": {},
   "source": [
    "NUM + NUM * NUM"
   ]
  },
  {
   "cell_type": "markdown",
   "metadata": {},
   "source": [
    "在此基础上，解析动作会试着通过替换操作匹配语法到输入令牌："
   ]
  },
  {
   "cell_type": "raw",
   "metadata": {},
   "source": [
    "expr\n",
    "expr ::= term { (+|-) term }*\n",
    "expr ::= factor { (*|/) factor }* { (+|-) term }*\n",
    "expr ::= NUM { (*l/) factor }* { (+|-) term }*\n",
    "expr ::= NUM { (+|-) term }*\n",
    "expr ::= NUM + term { (+|-) term }*\n",
    "expr ::= NUM + factor { (*|/) factor }* { (+|-) term }*\n",
    "expr ::= NUM + NUM { (*|/) factor }* { (+|-) term }*\n",
    "expr ::= NUM + NUM * factor { (*|/) factor }* { (+|-) term }*\n",
    "expr ::= NUM + NUM * NUM { (*|/) factor }* { (+|-) term }*\n",
    "expr ::= NUM + NUM * NUM { (+|-) term }*\n",
    "expr ::= NUM + NUM * NUM"
   ]
  },
  {
   "cell_type": "markdown",
   "metadata": {},
   "source": [
    "下面所有的解析可能需要花点时间弄明白，但是他们原理都是查找输入并试着去匹配语法规则。第一个输入令牌是NUM，因此替换首先会匹配那个部分。一旦匹配成功，就会进入下一个令牌+，以此类推。当已经确定不能撇皮下一个令牌的时候，右边的部分（比如{ (*/) factor }*）就会被清理掉。在一个成功的解析中，整个右边部分会完全展开来匹配输入令牌流。  \n",
    "有了前面的知识背景，下面我们举例一个简单示例来展示如何构建一个递归下降表达式求值程序："
   ]
  },
  {
   "cell_type": "code",
   "execution_count": 5,
   "metadata": {},
   "outputs": [
    {
     "name": "stdout",
     "output_type": "stream",
     "text": [
      "2\n",
      "5\n",
      "14\n",
      "37\n"
     ]
    }
   ],
   "source": [
    "#! /usr/bin/env python\n",
    "# -*- encoding: utf-8 -*-\n",
    "\"\"\"\n",
    "Topic: 下降解析器\n",
    "Desc:\n",
    "\"\"\"\n",
    "import re\n",
    "import collections\n",
    "\n",
    "# Token specification\n",
    "NUM = r'(?P<NUM>\\d+)'\n",
    "PLUS = r'(?P<PLUS>\\+)'\n",
    "MINUS = r'(?P<MINUS>-)'\n",
    "TIMES = r'(?P<TIMES>\\*)'\n",
    "DIVIDE = r'(?P<DIVIDE>/)'\n",
    "LPAREN = r'(?P<LPAREN>\\()'\n",
    "RPAREN = r'(?P<RPAREN>\\))'\n",
    "WS = r'(?P<WS>\\s+)'\n",
    "\n",
    "master_pat = re.compile('|'.join([NUM, PLUS, MINUS, TIMES,\n",
    "                                 DIVIDE, LPAREN, RPAREN, WS]))\n",
    "# Tokenizer\n",
    "Token = collections.namedtuple('Token', ['type', 'value'])\n",
    "\n",
    "def generate_tokens(text):\n",
    "    scanner = master_pat.scanner(text)\n",
    "    for m in iter(scanner.match, None):\n",
    "        tok = Token(m.lastgroup, m.group())\n",
    "        if tok.type != 'WS':\n",
    "            yield tok\n",
    "            \n",
    "# Parser\n",
    "class ExpressionEvaluator:\n",
    "    def parse(self, text):\n",
    "        self.tokens = generate_tokens(text)\n",
    "        self.tok = None # Last symbol consumed\n",
    "        self.nexttok = None # Next symbol tokenized\n",
    "        self._advance() # Load first lookahead token\n",
    "        return self.expr()\n",
    "    \n",
    "    def _advance(self):\n",
    "        '''Advance one token ahead'''\n",
    "        self.tok, self.nexttok = self.nexttok, next(self.tokens, None)\n",
    "        \n",
    "    def _accept(self, toktype):\n",
    "        '''Test and consume the next token if it matchs toktype'''\n",
    "        if self.nexttok and self.nexttok.type == toktype:\n",
    "            self._advance()\n",
    "            return True\n",
    "        else:\n",
    "            return False\n",
    "    \n",
    "    def _expect(self, toktype):\n",
    "        '''Column next token if it matchs toktype ot raise SynataxError'''\n",
    "        if not self._accept(toktype):\n",
    "            raise SyntaxError('Expected ' + toktype)\n",
    "            \n",
    "    # Grammar rules follow\n",
    "    def expr(self):\n",
    "        \"\"\"expression ::= term { ('+'|'-') term }*\"\"\"\n",
    "        exprval = self.term()\n",
    "        while self._accept('PLUS') or self._accept('MINUS'):\n",
    "            op = self.tok.type\n",
    "            right = self.term()\n",
    "            if op == 'PLUS':\n",
    "                exprval += right\n",
    "            elif op == 'MINUS':\n",
    "                exprval -= right\n",
    "        return exprval\n",
    "        \n",
    "    def term(self):\n",
    "        \"\"\"term : factor { ('*'|'/') factor }*\"\"\"\n",
    "        termval = self.factor()\n",
    "        while self._accept('TIMES') or self._accept('DIVIDE'):\n",
    "            op = self.tok.type\n",
    "            right = self.factor()\n",
    "            if op == 'TIMES':\n",
    "                termval *= right\n",
    "            elif op == 'DIVIDE':\n",
    "                termval /= right\n",
    "        return termval\n",
    "        \n",
    "    def factor(self):\n",
    "        \"\"\"factor ::= NUM | ( expr )\"\"\"\n",
    "        if self._accept('NUM'):\n",
    "            return int(self.tok.value)\n",
    "        elif self._accept('LPAREN'):\n",
    "            exprval = self.expr()\n",
    "            self._expect('RPAREN')\n",
    "            return exprval\n",
    "        else:\n",
    "            raise SyntaxError('Expected NUMBER or LPAREN')\n",
    "\n",
    "def descent_parser():\n",
    "    e = ExpressionEvaluator()\n",
    "    print(e.parse('2'))\n",
    "    print(e.parse('2 + 3'))\n",
    "    print(e.parse('2 + 3 * 4'))\n",
    "    print(e.parse('2 + (3 + 4) * 5'))\n",
    "    \n",
    "if __name__ == '__main__':\n",
    "    descent_parser()"
   ]
  },
  {
   "cell_type": "markdown",
   "metadata": {},
   "source": [
    "##### 讨论\n",
    "文本解析是一个很大的主题，一般会占用学生学习编译课程时刚开始的三周时间。如果你在找寻关于语法，解析算法等相关的背景知识的话，你应该去看一下编译器书籍。很显然，关于这方面的内容太多，不可能在这里全部展开。  \n",
    "尽管如此，编写一个递归下降解析器的整体思路是比较简单的。开始时，你先获得所有语法规则，然后将其转换为一个函数或者方案。因此如果你语句类似这样："
   ]
  },
  {
   "cell_type": "raw",
   "metadata": {},
   "source": [
    "expr ::= term { ('+'|'-') term }*\n",
    "term ::= factor { ('*'|'/') factor }*\n",
    "factor ::= '(' expr ')'\n",
    "    | NUM"
   ]
  },
  {
   "cell_type": "markdown",
   "metadata": {},
   "source": [
    "你应该首先将它们转换成一组像下面这样的方法："
   ]
  },
  {
   "cell_type": "code",
   "execution_count": 6,
   "metadata": {},
   "outputs": [],
   "source": [
    "class ExpressEvaluator:\n",
    "    def expr(self):\n",
    "        pass\n",
    "    def term(self):\n",
    "        pass\n",
    "    def factor(self):\n",
    "        pass"
   ]
  },
  {
   "cell_type": "markdown",
   "metadata": {},
   "source": [
    "每个方法要完成的任务很简单，它必须从左至右遍历语法规则的每一部分，处理每个令牌。从某种意义上讲，方法的目的就是要么处理语法规则，要么产生一个语法错误。从这样做，需采用下面的这些实现方法：  \n",
    "* 如果规则中的下个符号是另外一个语法规则的名字（比如term或factor），就简单的调用同名的方法即可。这就是该算法中“下降”的由来——控制下降到另一个语法规则中去。有时候规则会调用已经执行的方法（比如，在`factor ::= '('exper')'中对expr的调用`）。这就是算法中“递归”的由来。  \n",
    "* 如果规则中下一个符号是个特殊符号（比如()，你得查找下一个令牌并确认是一个精确匹配）。如果不匹配，就产生一个语法错误。这一节中的_expert()方法就是用来做这一步的。  \n",
    "* 如果规则中下一个符号为一些可能的选择项（比如+或-），你必须对每一种可能情况检查下一个令牌，只有当它匹配一个的时候才能继续。这也是本节实例中_accept()方法的目的。它相当于_expert()方法的弱化版本，因为如果一个匹配找到它会继续，但是如果没找到，它不会产生错误而是回滚（允许后续的检查继续进行）。\n",
    "* 对于有重复部分的规则（比如在规则表达式`::= term { ('+'|'-') term }*`），重复动作通过一个while循环来实现。循环主题会收集或处理所有的重复元素直到没有其他元素可以找到。  \n",
    "* 一旦整个语法规则处理完成，每个方法会返回某种结果给调用者。这就是在解析过程总值是怎样累加的原理。比如，在表达式求值程序中，返回值代表表达式解析后的部分结果。最后所有值会在最顶层的语法规则方法中合并起来。  \n",
    "尽管像你演示的是一个简单的例子，递归下降解析器可以用来实现非常负载的解析。比如，python语言本身就是一个递归下降解析器去解释的。可以通过查看python源码文件Grammar/Grammar来研究底层语法机制。看完你会发现，通过手动方式趋势心啊一个解析器其实会有很多的局限和不足之处。"
   ]
  },
  {
   "cell_type": "code",
   "execution_count": null,
   "metadata": {},
   "outputs": [],
   "source": []
  }
 ],
 "metadata": {
  "kernelspec": {
   "display_name": "Python 3",
   "language": "python",
   "name": "python3"
  },
  "language_info": {
   "codemirror_mode": {
    "name": "ipython",
    "version": 3
   },
   "file_extension": ".py",
   "mimetype": "text/x-python",
   "name": "python",
   "nbconvert_exporter": "python",
   "pygments_lexer": "ipython3",
   "version": "3.7.3"
  }
 },
 "nbformat": 4,
 "nbformat_minor": 4
}
