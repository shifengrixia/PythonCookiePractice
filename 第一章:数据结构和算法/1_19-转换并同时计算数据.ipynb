{
 "cells": [
  {
   "cell_type": "markdown",
   "metadata": {},
   "source": [
    "##### 问题\n",
    "你需要在数据序列上执行聚集函数，但是首先你需要先转换或者过滤数据"
   ]
  },
  {
   "cell_type": "markdown",
   "metadata": {},
   "source": [
    "##### 解决方案\n",
    "一个非常优雅的方式去结合数据计算与转换就是使用一个生成器表达式参数。比如，你想计算平方和。"
   ]
  },
  {
   "cell_type": "code",
   "execution_count": 1,
   "metadata": {},
   "outputs": [
    {
     "data": {
      "text/plain": [
       "55"
      ]
     },
     "execution_count": 1,
     "metadata": {},
     "output_type": "execute_result"
    }
   ],
   "source": [
    "nums = [1, 2, 3, 4, 5]\n",
    "s= sum(x * x for x in nums)\n",
    "s"
   ]
  },
  {
   "cell_type": "markdown",
   "metadata": {},
   "source": [
    "##### 讨论\n",
    "上面的实例演示了当生成器表达式作为一个单独参数传递给函数时候的巧妙语法（并不需要多加括号）。比如，下面这些语句是等效的："
   ]
  },
  {
   "cell_type": "code",
   "execution_count": 2,
   "metadata": {},
   "outputs": [],
   "source": [
    "s = sum((x * x for x in nums)) # 显示的传递一个生成器表达式对象\n",
    "s = sum(x * x for x in nums) # 更加优雅的实现方式，省略了括号"
   ]
  },
  {
   "cell_type": "markdown",
   "metadata": {},
   "source": [
    "使用一个生成器表达式作为参数会比先创建一个临时列表更加高效和优雅。比如，不使用生成器表达式，会考虑使用下面的实方式："
   ]
  },
  {
   "cell_type": "code",
   "execution_count": 3,
   "metadata": {},
   "outputs": [],
   "source": [
    "nums = [1, 2, 3, 4, 5]\n",
    "s = sum([x * x for x in nums])"
   ]
  },
  {
   "cell_type": "markdown",
   "metadata": {},
   "source": [
    "这种方式同样可以达到想要的效果，但是它会多一个步骤，先创一个额外的列表。如果元素数量非常大时，它会创建一个巨大的禁忌被使用一次就被酒气的临时数据结构。而生成器方案会以跌迭代的方式转换数据，因此更省内存。  \n",
    "而使用一些聚集函数比如min()和max()的时候你可能更加倾向于使用生成器版本，它们接受的一个key关键字参数或许对你很有帮助。"
   ]
  },
  {
   "cell_type": "code",
   "execution_count": null,
   "metadata": {},
   "outputs": [],
   "source": []
  }
 ],
 "metadata": {
  "kernelspec": {
   "display_name": "Python 3",
   "language": "python",
   "name": "python3"
  },
  "language_info": {
   "codemirror_mode": {
    "name": "ipython",
    "version": 3
   },
   "file_extension": ".py",
   "mimetype": "text/x-python",
   "name": "python",
   "nbconvert_exporter": "python",
   "pygments_lexer": "ipython3",
   "version": "3.7.3"
  }
 },
 "nbformat": 4,
 "nbformat_minor": 2
}
