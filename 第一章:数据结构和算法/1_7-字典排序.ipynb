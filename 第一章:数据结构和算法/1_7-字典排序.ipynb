{
 "cells": [
  {
   "cell_type": "markdown",
   "metadata": {},
   "source": [
    "##### 问题\n",
    "你想创建一个字典，并且在迭代或序列化这个字典的时候能够控制元素的顺序。"
   ]
  },
  {
   "cell_type": "markdown",
   "metadata": {},
   "source": [
    "##### 解决方案\n",
    "为了能控制一个字典重元素的顺序，可以使用`collections`模块中的`OrderedDict`类。在迭代操作时它会保持元素被插入时的顺序"
   ]
  },
  {
   "cell_type": "code",
   "execution_count": 3,
   "metadata": {},
   "outputs": [
    {
     "name": "stdout",
     "output_type": "stream",
     "text": [
      "foo 1\n",
      "bar 2\n",
      "spam 3\n",
      "grok 4\n"
     ]
    }
   ],
   "source": [
    "from collections import OrderedDict\n",
    "\n",
    "\n",
    "d = OrderedDict()\n",
    "d['foo'] = 1\n",
    "d['bar'] = 2\n",
    "d['spam'] = 3\n",
    "d['grok'] = 4\n",
    "for key in d:\n",
    "    print(key, d[key])"
   ]
  },
  {
   "cell_type": "markdown",
   "metadata": {},
   "source": [
    "当你想要构建一个将来需要序列化或编码成其他格式的映射时，Ordereddict是非常有用的。比如，你想精确控制以JSON编码后字段的顺序，你可以先试用OrderedDict来构建这样的数据。"
   ]
  },
  {
   "cell_type": "code",
   "execution_count": 4,
   "metadata": {},
   "outputs": [
    {
     "data": {
      "text/plain": [
       "'{\"foo\": 1, \"bar\": 2, \"spam\": 3, \"grok\": 4}'"
      ]
     },
     "execution_count": 4,
     "metadata": {},
     "output_type": "execute_result"
    }
   ],
   "source": [
    "import json\n",
    "\n",
    "json.dumps(d)"
   ]
  },
  {
   "cell_type": "markdown",
   "metadata": {},
   "source": [
    "##### 讨论\n",
    "OrderDict内部维护着一个根据键插入顺序排序的双向链表。每当一个新的元素插入进来时，它会被放到链表的尾部。对于一个已经存在键的重复复制不会改变键的顺序。  \n",
    "需要注意的是，一个OrderDict的大小是一个普通字典的两倍，因为它内部维护者另外一个链表。所以如果需要构建一个需要大量OrderedDict实例的数据机构的时候（比如读取100000行CSV数据要一个OrderedDict列表中去），那么就得好好权衡一下是否使用OrderedDict带来的好处要大过额外内存消耗的影响。"
   ]
  },
  {
   "cell_type": "code",
   "execution_count": null,
   "metadata": {},
   "outputs": [],
   "source": []
  }
 ],
 "metadata": {
  "kernelspec": {
   "display_name": "Python 3",
   "language": "python",
   "name": "python3"
  },
  "language_info": {
   "codemirror_mode": {
    "name": "ipython",
    "version": 3
   },
   "file_extension": ".py",
   "mimetype": "text/x-python",
   "name": "python",
   "nbconvert_exporter": "python",
   "pygments_lexer": "ipython3",
   "version": "3.7.3"
  }
 },
 "nbformat": 4,
 "nbformat_minor": 2
}
