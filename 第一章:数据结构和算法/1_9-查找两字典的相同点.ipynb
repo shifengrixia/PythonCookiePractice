{
 "cells": [
  {
   "cell_type": "markdown",
   "metadata": {},
   "source": [
    "##### 问题\n",
    "怎样在两字典中需要相同点（比如相同的键，相同的值等等）？"
   ]
  },
  {
   "cell_type": "markdown",
   "metadata": {},
   "source": [
    "##### 解决方案\n",
    "考虑下面两个字典"
   ]
  },
  {
   "cell_type": "code",
   "execution_count": 1,
   "metadata": {},
   "outputs": [],
   "source": [
    "a={\n",
    "'x' : 1,\n",
    "'y' : 2,\n",
    "'z' : 3 }\n",
    "b={\n",
    "'w' : 10,\n",
    "'x' : 11,\n",
    "'y' : 2 }"
   ]
  },
  {
   "cell_type": "markdown",
   "metadata": {},
   "source": [
    "为了寻找两个字典的相同点，可以简单的在两字典的keys()或者items()方法返回结果上执行集合操作。"
   ]
  },
  {
   "cell_type": "code",
   "execution_count": 2,
   "metadata": {},
   "outputs": [
    {
     "data": {
      "text/plain": [
       "{'x', 'y'}"
      ]
     },
     "execution_count": 2,
     "metadata": {},
     "output_type": "execute_result"
    }
   ],
   "source": [
    "# find keys in common\n",
    "a.keys() & b.keys()"
   ]
  },
  {
   "cell_type": "code",
   "execution_count": 3,
   "metadata": {},
   "outputs": [
    {
     "data": {
      "text/plain": [
       "{'z'}"
      ]
     },
     "execution_count": 3,
     "metadata": {},
     "output_type": "execute_result"
    }
   ],
   "source": [
    "# find keys in a that are not in b\n",
    "a.keys() - b.keys()"
   ]
  },
  {
   "cell_type": "code",
   "execution_count": 4,
   "metadata": {},
   "outputs": [
    {
     "data": {
      "text/plain": [
       "{('y', 2)}"
      ]
     },
     "execution_count": 4,
     "metadata": {},
     "output_type": "execute_result"
    }
   ],
   "source": [
    "# find (key, value) pairs in common\n",
    "a.items() & b.items()"
   ]
  },
  {
   "cell_type": "markdown",
   "metadata": {},
   "source": [
    "这些操作也可以用于修改或过滤字典元素。比如，假如你想以先用字典构造一个排除几个指定键的新字典。下面利用字典推到来实现这样的需求："
   ]
  },
  {
   "cell_type": "code",
   "execution_count": 5,
   "metadata": {},
   "outputs": [
    {
     "data": {
      "text/plain": [
       "{'x': 1, 'y': 2}"
      ]
     },
     "execution_count": 5,
     "metadata": {},
     "output_type": "execute_result"
    }
   ],
   "source": [
    "c = {key: a[key] for key in a.keys() - {'z', 'w'}}\n",
    "c"
   ]
  },
  {
   "cell_type": "markdown",
   "metadata": {},
   "source": [
    "##### 讨论\n",
    "**一个字典就是一个键集合与一个值集合的映射关系**。字典的keys()方法返回一个展现剪辑和的键视图函数。键视图的一个很少被了解的特性就是它们也**支持集合操作**，比如集合并、交、差运算、所以，如果你想对集合键执行一些普通的集合操作，可以直接使用键视图对象而不用现将它们转换成一个set。  \n",
    "字典的item()方法返回**一个包含(键, 值)对的元素视图对象**。这个对象同样也支持集合操作，并且可以被用来查找两个字典有哪些相同的键值对。  \n",
    "尽管字典的values()方法也是类似，但它并不支持这里介绍的集合操作。"
   ]
  },
  {
   "cell_type": "code",
   "execution_count": null,
   "metadata": {},
   "outputs": [],
   "source": []
  }
 ],
 "metadata": {
  "kernelspec": {
   "display_name": "Python 3",
   "language": "python",
   "name": "python3"
  },
  "language_info": {
   "codemirror_mode": {
    "name": "ipython",
    "version": 3
   },
   "file_extension": ".py",
   "mimetype": "text/x-python",
   "name": "python",
   "nbconvert_exporter": "python",
   "pygments_lexer": "ipython3",
   "version": "3.7.3"
  }
 },
 "nbformat": 4,
 "nbformat_minor": 2
}
